{
 "cells": [
  {
   "cell_type": "markdown",
   "id": "adee9964",
   "metadata": {},
   "source": [
    "## Set Dependencies"
   ]
  },
  {
   "cell_type": "code",
   "execution_count": 1,
   "id": "e04704b2",
   "metadata": {},
   "outputs": [
    {
     "name": "stdout",
     "output_type": "stream",
     "text": [
      "Requirement already satisfied: PyPortfolioOpt in /Users/nasruddinislambinramli/anaconda3/lib/python3.11/site-packages (1.5.5)\n",
      "Requirement already satisfied: cvxpy<2.0.0,>=1.1.19 in /Users/nasruddinislambinramli/anaconda3/lib/python3.11/site-packages (from PyPortfolioOpt) (1.5.3)\n",
      "Requirement already satisfied: numpy<2.0.0,>=1.22.4 in /Users/nasruddinislambinramli/anaconda3/lib/python3.11/site-packages (from PyPortfolioOpt) (1.24.3)\n",
      "Requirement already satisfied: pandas>=0.19 in /Users/nasruddinislambinramli/anaconda3/lib/python3.11/site-packages (from PyPortfolioOpt) (2.2.2)\n",
      "Requirement already satisfied: scipy<2.0,>=1.3 in /Users/nasruddinislambinramli/anaconda3/lib/python3.11/site-packages (from PyPortfolioOpt) (1.11.1)\n",
      "Requirement already satisfied: osqp>=0.6.2 in /Users/nasruddinislambinramli/anaconda3/lib/python3.11/site-packages (from cvxpy<2.0.0,>=1.1.19->PyPortfolioOpt) (0.6.7.post1)\n",
      "Requirement already satisfied: ecos>=2 in /Users/nasruddinislambinramli/anaconda3/lib/python3.11/site-packages (from cvxpy<2.0.0,>=1.1.19->PyPortfolioOpt) (2.0.14)\n",
      "Requirement already satisfied: clarabel>=0.5.0 in /Users/nasruddinislambinramli/anaconda3/lib/python3.11/site-packages (from cvxpy<2.0.0,>=1.1.19->PyPortfolioOpt) (0.9.0)\n",
      "Requirement already satisfied: scs>=3.2.4.post1 in /Users/nasruddinislambinramli/anaconda3/lib/python3.11/site-packages (from cvxpy<2.0.0,>=1.1.19->PyPortfolioOpt) (3.2.7)\n",
      "Requirement already satisfied: python-dateutil>=2.8.2 in /Users/nasruddinislambinramli/anaconda3/lib/python3.11/site-packages (from pandas>=0.19->PyPortfolioOpt) (2.8.2)\n",
      "Requirement already satisfied: pytz>=2020.1 in /Users/nasruddinislambinramli/anaconda3/lib/python3.11/site-packages (from pandas>=0.19->PyPortfolioOpt) (2023.3.post1)\n",
      "Requirement already satisfied: tzdata>=2022.7 in /Users/nasruddinislambinramli/anaconda3/lib/python3.11/site-packages (from pandas>=0.19->PyPortfolioOpt) (2023.3)\n",
      "Requirement already satisfied: qdldl in /Users/nasruddinislambinramli/anaconda3/lib/python3.11/site-packages (from osqp>=0.6.2->cvxpy<2.0.0,>=1.1.19->PyPortfolioOpt) (0.1.7.post4)\n",
      "Requirement already satisfied: six>=1.5 in /Users/nasruddinislambinramli/anaconda3/lib/python3.11/site-packages (from python-dateutil>=2.8.2->pandas>=0.19->PyPortfolioOpt) (1.16.0)\n",
      "Note: you may need to restart the kernel to use updated packages.\n"
     ]
    }
   ],
   "source": [
    "pip install PyPortfolioOpt"
   ]
  },
  {
   "cell_type": "code",
   "execution_count": 2,
   "id": "76c5c14c",
   "metadata": {
    "scrolled": true
   },
   "outputs": [
    {
     "name": "stderr",
     "output_type": "stream",
     "text": [
      "/Users/nasruddinislambinramli/anaconda3/lib/python3.11/site-packages/pandas/core/arrays/masked.py:60: UserWarning: Pandas requires version '1.3.6' or newer of 'bottleneck' (version '1.3.5' currently installed).\n",
      "  from pandas.core import (\n"
     ]
    }
   ],
   "source": [
    "import numpy as np\n",
    "import pandas as pd\n",
    "import matplotlib.pyplot as plt\n",
    "from scipy.optimize import minimize\n",
    "from numpy.linalg import inv\n",
    "from pypfopt import EfficientFrontier as efk"
   ]
  },
  {
   "cell_type": "code",
   "execution_count": 3,
   "id": "0b74040f",
   "metadata": {},
   "outputs": [
    {
     "name": "stdout",
     "output_type": "stream",
     "text": [
      "Requirement already satisfied: openpyxl in /Users/nasruddinislambinramli/anaconda3/lib/python3.11/site-packages (3.1.5)\n",
      "Requirement already satisfied: et-xmlfile in /Users/nasruddinislambinramli/anaconda3/lib/python3.11/site-packages (from openpyxl) (1.1.0)\n"
     ]
    }
   ],
   "source": [
    "!pip install --upgrade openpyxl"
   ]
  },
  {
   "cell_type": "code",
   "execution_count": 4,
   "id": "be790a1c",
   "metadata": {
    "scrolled": true
   },
   "outputs": [
    {
     "name": "stderr",
     "output_type": "stream",
     "text": [
      "/Users/nasruddinislambinramli/anaconda3/lib/python3.11/site-packages/openpyxl/worksheet/_reader.py:329: UserWarning: Unknown extension is not supported and will be removed\n",
      "  warn(msg)\n"
     ]
    }
   ],
   "source": [
    "df = pd.read_excel(\"Industry_Portfolios.xlsx\")"
   ]
  },
  {
   "cell_type": "markdown",
   "id": "419dcb66",
   "metadata": {},
   "source": [
    "### Clean Date col and set index"
   ]
  },
  {
   "cell_type": "code",
   "execution_count": 5,
   "id": "c95e91d5",
   "metadata": {},
   "outputs": [],
   "source": [
    "df[\"Date\"] =\\\n",
    "    df\\\n",
    "    .Date\\\n",
    "    .apply(lambda x: str(x))\n",
    "\n",
    "df[\"Date\"] =\\\n",
    "    pd\\\n",
    "    .to_datetime(df.Date,\n",
    "                 format=\"%Y%m\")\n",
    "\n",
    "df =\\\n",
    "    df\\\n",
    "    .set_index(\"Date\")"
   ]
  },
  {
   "cell_type": "code",
   "execution_count": 6,
   "id": "ee0e3618",
   "metadata": {},
   "outputs": [],
   "source": [
    "mean_rt =\\\n",
    "    df.T.mean(axis=1)\n",
    "\n",
    "std_dev =\\\n",
    "    df.T.std(axis =1)"
   ]
  },
  {
   "cell_type": "code",
   "execution_count": 7,
   "id": "a64a3870",
   "metadata": {},
   "outputs": [
    {
     "data": {
      "text/html": [
       "<div>\n",
       "<style scoped>\n",
       "    .dataframe tbody tr th:only-of-type {\n",
       "        vertical-align: middle;\n",
       "    }\n",
       "\n",
       "    .dataframe tbody tr th {\n",
       "        vertical-align: top;\n",
       "    }\n",
       "\n",
       "    .dataframe thead th {\n",
       "        text-align: right;\n",
       "    }\n",
       "</style>\n",
       "<table border=\"1\" class=\"dataframe\">\n",
       "  <thead>\n",
       "    <tr style=\"text-align: right;\">\n",
       "      <th></th>\n",
       "      <th>mean_returns</th>\n",
       "      <th>std_dev</th>\n",
       "    </tr>\n",
       "  </thead>\n",
       "  <tbody>\n",
       "    <tr>\n",
       "      <th>NoDur</th>\n",
       "      <td>0.902833</td>\n",
       "      <td>3.345657</td>\n",
       "    </tr>\n",
       "    <tr>\n",
       "      <th>Durbl</th>\n",
       "      <td>0.733333</td>\n",
       "      <td>8.361852</td>\n",
       "    </tr>\n",
       "    <tr>\n",
       "      <th>Manuf</th>\n",
       "      <td>1.012833</td>\n",
       "      <td>5.310270</td>\n",
       "    </tr>\n",
       "    <tr>\n",
       "      <th>Enrgy</th>\n",
       "      <td>1.231167</td>\n",
       "      <td>6.081524</td>\n",
       "    </tr>\n",
       "    <tr>\n",
       "      <th>HiTec</th>\n",
       "      <td>0.766250</td>\n",
       "      <td>5.381191</td>\n",
       "    </tr>\n",
       "    <tr>\n",
       "      <th>Telcm</th>\n",
       "      <td>0.881417</td>\n",
       "      <td>4.448284</td>\n",
       "    </tr>\n",
       "    <tr>\n",
       "      <th>Shops</th>\n",
       "      <td>0.916333</td>\n",
       "      <td>4.093786</td>\n",
       "    </tr>\n",
       "    <tr>\n",
       "      <th>Hlth</th>\n",
       "      <td>0.783833</td>\n",
       "      <td>3.787172</td>\n",
       "    </tr>\n",
       "    <tr>\n",
       "      <th>Utils</th>\n",
       "      <td>0.907167</td>\n",
       "      <td>3.701763</td>\n",
       "    </tr>\n",
       "    <tr>\n",
       "      <th>Other</th>\n",
       "      <td>0.489083</td>\n",
       "      <td>5.582452</td>\n",
       "    </tr>\n",
       "  </tbody>\n",
       "</table>\n",
       "</div>"
      ],
      "text/plain": [
       "       mean_returns   std_dev\n",
       "NoDur      0.902833  3.345657\n",
       "Durbl      0.733333  8.361852\n",
       "Manuf      1.012833  5.310270\n",
       "Enrgy      1.231167  6.081524\n",
       "HiTec      0.766250  5.381191\n",
       "Telcm      0.881417  4.448284\n",
       "Shops      0.916333  4.093786\n",
       "Hlth       0.783833  3.787172\n",
       "Utils      0.907167  3.701763\n",
       "Other      0.489083  5.582452"
      ]
     },
     "execution_count": 7,
     "metadata": {},
     "output_type": "execute_result"
    }
   ],
   "source": [
    "mean_sd =\\\n",
    "    pd\\\n",
    "    .DataFrame({\"mean_returns\": mean_rt,\n",
    "                \"std_dev\": std_dev})\n",
    "    \n",
    "mean_sd"
   ]
  },
  {
   "cell_type": "code",
   "execution_count": 8,
   "id": "4c9aa91e",
   "metadata": {},
   "outputs": [],
   "source": [
    "Returns = mean_sd.mean_returns\n",
    "\n",
    "R =\\\n",
    "    Returns # nx1\n",
    "\n",
    "V =\\\n",
    "    df\\\n",
    "    .cov()\n",
    "\n",
    "V_matrix =\\\n",
    "    np\\\n",
    "    .asmatrix(V)\n",
    "\n",
    "V_inv =\\\n",
    "    inv(V_matrix)\n",
    "\n",
    "e =\\\n",
    "    np\\\n",
    "    .ones(\n",
    "        (V_matrix.shape[0],1))"
   ]
  },
  {
   "cell_type": "code",
   "execution_count": 9,
   "id": "5b9177c1",
   "metadata": {},
   "outputs": [
    {
     "name": "stdout",
     "output_type": "stream",
     "text": [
      "0.13794323869931885\n"
     ]
    }
   ],
   "source": [
    "alpha =\\\n",
    "    float(R.T @ V_inv @ e)\n",
    "\n",
    "print(alpha)"
   ]
  },
  {
   "cell_type": "code",
   "execution_count": 10,
   "id": "97f27a2e",
   "metadata": {},
   "outputs": [
    {
     "name": "stdout",
     "output_type": "stream",
     "text": [
      "0.19640858464482272\n"
     ]
    }
   ],
   "source": [
    "gamma =\\\n",
    "    float(R.T @ V_inv @ R)\n",
    "\n",
    "print(gamma)"
   ]
  },
  {
   "cell_type": "code",
   "execution_count": 11,
   "id": "3d8620b2",
   "metadata": {},
   "outputs": [
    {
     "name": "stdout",
     "output_type": "stream",
     "text": [
      "0.1373875973567116\n"
     ]
    }
   ],
   "source": [
    "delta =\\\n",
    "    float(e.T @ V_inv @ e)\n",
    "\n",
    "print(delta)"
   ]
  },
  {
   "cell_type": "code",
   "execution_count": 12,
   "id": "7de5acc9",
   "metadata": {},
   "outputs": [
    {
     "data": {
      "text/plain": [
       "1.004044334083262"
      ]
     },
     "execution_count": 12,
     "metadata": {},
     "output_type": "execute_result"
    }
   ],
   "source": [
    "R_mv =\\\n",
    "    alpha/delta\n",
    "\n",
    "R_mv"
   ]
  },
  {
   "cell_type": "code",
   "execution_count": 13,
   "id": "5692c34b",
   "metadata": {},
   "outputs": [
    {
     "data": {
      "text/plain": [
       "array([0. , 0.1, 0.2, 0.3, 0.4, 0.5, 0.6, 0.7, 0.8, 0.9, 1. , 1.1, 1.2,\n",
       "       1.3, 1.4, 1.5, 1.6, 1.7, 1.8, 1.9, 2. ])"
      ]
     },
     "execution_count": 13,
     "metadata": {},
     "output_type": "execute_result"
    }
   ],
   "source": [
    "R_p =\\\n",
    "    np\\\n",
    "    .arange(0, 2.1, 0.1)\n",
    "\n",
    "R_p"
   ]
  },
  {
   "cell_type": "code",
   "execution_count": 14,
   "id": "d488d9e0",
   "metadata": {},
   "outputs": [
    {
     "data": {
      "text/plain": [
       "array([4.96865933, 4.62520378, 4.29451081, 3.97976317, 3.68504889,\n",
       "       3.41555771, 3.17771336, 2.97910534, 2.82801233, 2.73232821,\n",
       "       2.69795476, 2.7272112 , 2.81811651, 2.96500574, 3.16008166,\n",
       "       3.39504812, 3.66223513, 3.9551181 , 4.26841081, 4.59794314,\n",
       "       4.94046659])"
      ]
     },
     "execution_count": 14,
     "metadata": {},
     "output_type": "execute_result"
    }
   ],
   "source": [
    "sigma =\\\n",
    "    np\\\n",
    "    .sqrt((1/delta)\\\n",
    "          + (delta/(gamma*delta-alpha**(2)))\\\n",
    "          * (R_p - R_mv)**(2))\n",
    "\n",
    "sigma"
   ]
  },
  {
   "cell_type": "code",
   "execution_count": 15,
   "id": "1804d369",
   "metadata": {},
   "outputs": [
    {
     "data": {
      "image/png": "[encoded data removed]",
      "text/plain": [
       "<Figure size 640x480 with 1 Axes>"
      ]
     },
     "metadata": {},
     "output_type": "display_data"
    }
   ],
   "source": [
    "plt\\\n",
    "    .plot(sigma, R_p, marker = 'o')\n",
    "\n",
    "plt\\\n",
    "    .title(\"Minimum-Variance Frontier\")\n",
    "\n",
    "plt\\\n",
    "    .xlabel(\"Standard Deviation of (monthly) Return\")\n",
    "\n",
    "plt\\\n",
    "    .yticks(np.arange(0, 2.1, 0.1))\n",
    "\n",
    "plt\\\n",
    "    .ylabel(\"Expected (monthly) Return (%)\")\n",
    "\n",
    "plt\\\n",
    "    .show()"
   ]
  },
  {
   "cell_type": "code",
   "execution_count": 26,
   "id": "f3f93fe7",
   "metadata": {},
   "outputs": [],
   "source": [
    "rf_rt = 0.13\n",
    "\n",
    "R_p_rf =\\\n",
    "    np\\\n",
    "    .linspace(0,\n",
    "              2,\n",
    "              100)"
   ]
  },
  {
   "cell_type": "code",
   "execution_count": 27,
   "id": "bf48d456",
   "metadata": {},
   "outputs": [],
   "source": [
    "def rf_sd(alpha, gamma, delta, R_p_rf, rf_rt):\n",
    "    \n",
    "    sigma_p_riskless =\\\n",
    "        (R_p_rf - rf_rt)/np.sqrt(gamma - 2*alpha*rf_rt + delta*(rf_rt**2))\n",
    "\n",
    "    return sigma_p_riskless"
   ]
  },
  {
   "cell_type": "code",
   "execution_count": 28,
   "id": "0d3912ea",
   "metadata": {},
   "outputs": [],
   "source": [
    "sd_rf =\\\n",
    "    rf_sd(alpha,\n",
    "           gamma,\n",
    "           delta,\n",
    "           R_p_rf,\n",
    "           rf_rt)"
   ]
  },
  {
   "cell_type": "code",
   "execution_count": 29,
   "id": "76d99e39",
   "metadata": {},
   "outputs": [
    {
     "data": {
      "image/png": "[encoded data removed]",
      "text/plain": [
       "<Figure size 640x480 with 1 Axes>"
      ]
     },
     "metadata": {},
     "output_type": "display_data"
    }
   ],
   "source": [
    "plt\\\n",
    "    .plot(sigma,\n",
    "          R_p,\n",
    "          label=\"w/o Riskless Asset\", marker = 'o')\n",
    "\n",
    "plt\\\n",
    "    .title(\"Minimum-Variance Frontier\")\n",
    "\n",
    "plt\\\n",
    "    .xlabel(\"Standard Deviation Return\")\n",
    "\n",
    "plt\\\n",
    "    .yticks(np\\\n",
    "            .arange(0.1,\n",
    "                    2.1,\n",
    "                    0.1))\n",
    "\n",
    "plt\\\n",
    "    .ylabel(\"Expected Return\")\n",
    "\n",
    "plt\\\n",
    "    .plot(sd_rf,\n",
    "          R_p_rf,\n",
    "          label=\"w/ Riskless Asset\")\n",
    "\n",
    "plt\\\n",
    "    .legend()\n",
    "\n",
    "plt\\\n",
    "    .show()"
   ]
  },
  {
   "cell_type": "code",
   "execution_count": 30,
   "id": "86f12831",
   "metadata": {},
   "outputs": [],
   "source": [
    "def tangency_sharpe_ratio(alpha, gamma, delta, rf_rate):\n",
    "    \n",
    "    tg_sharpe_ratio =\\\n",
    "        np\\\n",
    "        .sqrt(gamma\\\n",
    "              - 2*alpha*rf_rt\\\n",
    "              + delta*rf_rt**2)\n",
    "\n",
    "    return tg_sharpe_ratio"
   ]
  },
  {
   "cell_type": "code",
   "execution_count": 31,
   "id": "5d236079",
   "metadata": {},
   "outputs": [],
   "source": [
    "def get_tangency_portfolio_weights(alpha, gamma, delta, V, mean_rt, rf_rt):\n",
    "\n",
    "    V_inv =\\\n",
    "        inv(V)\n",
    "    \n",
    "    e =\\\n",
    "        np\\\n",
    "        .ones((V_inv.shape[0],\n",
    "               1))\n",
    "    \n",
    "    R_tg =\\\n",
    "        (alpha*rf_rt - gamma)/(delta*rf_rt - alpha)\n",
    "    \n",
    "    a =\\\n",
    "        np\\\n",
    "        .array((gamma*V_inv.dot(e)-alpha*V_inv.dot(mean_rt))/(gamma*delta-alpha**2)).T\n",
    "    \n",
    "    b =\\\n",
    "        np\\\n",
    "        .array((delta*V_inv.dot(mean_rt) - alpha*V_inv.dot(e))/(gamma*delta-alpha**2)).T\n",
    "    \n",
    "    weight =\\\n",
    "        np\\\n",
    "        .diagonal(a + b*R_tg)\n",
    "\n",
    "    return weight"
   ]
  },
  {
   "cell_type": "code",
   "execution_count": 32,
   "id": "580f07a5",
   "metadata": {},
   "outputs": [
    {
     "data": {
      "text/plain": [
       "0.4035655993495088"
      ]
     },
     "execution_count": 32,
     "metadata": {},
     "output_type": "execute_result"
    }
   ],
   "source": [
    "tangency_pf_sharpe_ratio =\\\n",
    "    tangency_sharpe_ratio(alpha, \n",
    "                          gamma,\n",
    "                          delta,\n",
    "                          rf_rt)\n",
    "\n",
    "tangency_pf_sharpe_ratio"
   ]
  },
  {
   "cell_type": "code",
   "execution_count": 33,
   "id": "70f8de6e",
   "metadata": {},
   "outputs": [
    {
     "data": {
      "text/plain": [
       "array([ 0.56797218, -0.2140726 ,  0.71410511,  0.10408719, -0.36343817,\n",
       "       -0.09546326,  0.99164683,  0.0755702 ,  0.13264333, -0.91305081])"
      ]
     },
     "execution_count": 33,
     "metadata": {},
     "output_type": "execute_result"
    }
   ],
   "source": [
    "tangency_weights =\\\n",
    "    get_tangency_portfolio_weights(alpha,\n",
    "                                   gamma,\n",
    "                                   delta,\n",
    "                                   V,\n",
    "                                   mean_rt,\n",
    "                                   rf_rt)\n",
    "tangency_weights"
   ]
  },
  {
   "cell_type": "code",
   "execution_count": 34,
   "id": "a22374d9",
   "metadata": {},
   "outputs": [],
   "source": [
    "mean_sd['tangent weights'] =\\\n",
    "    tangency_weights"
   ]
  },
  {
   "cell_type": "code",
   "execution_count": 25,
   "id": "3d635ba9",
   "metadata": {},
   "outputs": [
    {
     "data": {
      "text/plain": [
       "NoDur    0.567972\n",
       "Durbl   -0.214073\n",
       "Manuf    0.714105\n",
       "Enrgy    0.104087\n",
       "HiTec   -0.363438\n",
       "Telcm   -0.095463\n",
       "Shops    0.991647\n",
       "Hlth     0.075570\n",
       "Utils    0.132643\n",
       "Other   -0.913051\n",
       "Name: tangent weights, dtype: float64"
      ]
     },
     "execution_count": 25,
     "metadata": {},
     "output_type": "execute_result"
    }
   ],
   "source": [
    "mean_sd['tangent weights']"
   ]
  },
  {
   "cell_type": "code",
   "execution_count": null,
   "id": "64ff1283",
   "metadata": {},
   "outputs": [],
   "source": []
  },
  {
   "cell_type": "code",
   "execution_count": null,
   "id": "e8a08088",
   "metadata": {},
   "outputs": [],
   "source": []
  }
 ],
 "metadata": {
  "kernelspec": {
   "display_name": "Python 3 (ipykernel)",
   "language": "python",
   "name": "python3"
  },
  "language_info": {
   "codemirror_mode": {
    "name": "ipython",
    "version": 3
   },
   "file_extension": ".py",
   "mimetype": "text/x-python",
   "name": "python",
   "nbconvert_exporter": "python",
   "pygments_lexer": "ipython3",
   "version": "3.11.5"
  }
 },
 "nbformat": 4,
 "nbformat_minor": 5
}
